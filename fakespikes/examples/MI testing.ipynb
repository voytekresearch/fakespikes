{
 "cells": [
  {
   "cell_type": "code",
   "execution_count": 1,
   "metadata": {
    "collapsed": true
   },
   "outputs": [],
   "source": [
    "import numpy as np\n",
    "from fakespikes import neurons, util, rates\n",
    "from fakespikes.rates import osc2\n",
    "from fakespikes.neurons import Spikes\n",
    "\n",
    "from pacological2.neurons import stim\n",
    "from pacological2.util import rate_code"
   ]
  },
  {
   "cell_type": "code",
   "execution_count": 2,
   "metadata": {
    "collapsed": false
   },
   "outputs": [],
   "source": [
    "# Gen stim, and random noise, and gain-pac\n",
    "# S - stim pop\n",
    "t = 1.2\n",
    "time_step = 1e-3\n",
    "times = util.create_times(t, time_step)\n",
    "\n",
    "f = 10\n",
    "\n",
    "scale = 1e2\n",
    "rate = 30\n",
    "rate_noise = 10\n",
    "\n",
    "\n",
    "min_rate = 20\n",
    "max_rate = 30\n",
    "g_min = 0.05\n",
    "g_max = 0.2\n",
    "back_rate_e = 22\n",
    "back_rate_i = 22\n",
    "\n",
    "stim_seed = 10  # Fix this for all exps\n",
    "N_stim = 400\n",
    "N_pac = N_stim\n",
    "\n",
    "# Rate gen\n",
    "s_rates, ns_s, ts_s = stim(\n",
    "    t,\n",
    "    N_stim,\n",
    "    rate=rate,\n",
    "    scale=scale,\n",
    "    rate_noise=rate_noise,\n",
    "    time_step=time_step,\n",
    "    seed=stim_seed)\n",
    "\n",
    "o_rates = osc2(times, back_rate_e, f, min_a=min_rate)\n",
    "\n",
    "# gain / rate\n",
    "dg = [g_max, g_min]\n",
    "do = [min_rate, max_rate]\n",
    "dg_do = np.interp(o_rates, do, dg)\n",
    "\n",
    "y_rates = s_rates * o_rates * dg_do\n",
    "\n",
    "# Noise\n",
    "xi_rates = np.random.uniform(0, 10, size=len(times))\n",
    "\n",
    "# Spike gen\n",
    "Ipri = 2  # 2 Hz var in rate / neuron\n",
    "lnp_s = Spikes(N_stim, t, dt=time_step, private_stdev=Ipri)\n",
    "lnp_y = Spikes(N_pac, t, dt=time_step, private_stdev=Ipri)\n",
    "lnp_xi = Spikes(N_pac, t, dt=time_step, private_stdev=Ipri)\n",
    "\n",
    "# Run LNP\n",
    "ns_s, ts_s = util.to_spiketimes(times, lnp_s.poisson(s_rates))\n",
    "ns_y, ts_y = util.to_spiketimes(times, lnp_y.poisson(y_rates))\n",
    "ns_xi, ts_xi = util.to_spiketimes(times, lnp_y.poisson(xi_rates))"
   ]
  },
  {
   "cell_type": "code",
   "execution_count": 3,
   "metadata": {
    "collapsed": true
   },
   "outputs": [],
   "source": [
    "k = 10\n",
    "integration_w = 1e-3\n",
    "drop_before = 0.2\n",
    "\n",
    "r_s = rate_code(ts_s[ts_s > drop_before], (0, t), integration_w, k=k)\n",
    "r_y = rate_code(ts_y[ts_y > drop_before], (0, t), integration_w, k=k)\n",
    "r_xi = rate_code(ts_xi[ts_xi > drop_before], (0, t), integration_w, k=k)"
   ]
  },
  {
   "cell_type": "code",
   "execution_count": 6,
   "metadata": {
    "collapsed": false
   },
   "outputs": [
    {
     "data": {
      "text/plain": [
       "0.95645752711191623"
      ]
     },
     "execution_count": 6,
     "metadata": {},
     "output_type": "execute_result"
    }
   ],
   "source": [
    "util.mi(r_s, r_y)"
   ]
  },
  {
   "cell_type": "code",
   "execution_count": 7,
   "metadata": {
    "collapsed": false
   },
   "outputs": [
    {
     "data": {
      "text/plain": [
       "0.15967000762492578"
      ]
     },
     "execution_count": 7,
     "metadata": {},
     "output_type": "execute_result"
    }
   ],
   "source": [
    "util.mi(r_s, r_xi)"
   ]
  },
  {
   "cell_type": "code",
   "execution_count": 8,
   "metadata": {
    "collapsed": false
   },
   "outputs": [
    {
     "data": {
      "text/plain": [
       "0.17315791969641481"
      ]
     },
     "execution_count": 8,
     "metadata": {},
     "output_type": "execute_result"
    }
   ],
   "source": [
    "util.mi(r_y, r_xi)"
   ]
  },
  {
   "cell_type": "code",
   "execution_count": null,
   "metadata": {
    "collapsed": true
   },
   "outputs": [],
   "source": []
  }
 ],
 "metadata": {
  "kernelspec": {
   "display_name": "Python 2",
   "language": "python",
   "name": "python2"
  },
  "language_info": {
   "codemirror_mode": {
    "name": "ipython",
    "version": 2
   },
   "file_extension": ".py",
   "mimetype": "text/x-python",
   "name": "python",
   "nbconvert_exporter": "python",
   "pygments_lexer": "ipython2",
   "version": "2.7.13"
  }
 },
 "nbformat": 4,
 "nbformat_minor": 2
}
